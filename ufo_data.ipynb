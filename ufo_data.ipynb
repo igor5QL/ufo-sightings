{
 "cells": [
  {
   "cell_type": "markdown",
   "metadata": {},
   "source": [
    "Data: https://www.kaggle.com/datasets/jonwright13/ufo-sightings-around-the-world-better"
   ]
  },
  {
   "cell_type": "code",
   "execution_count": null,
   "metadata": {},
   "outputs": [],
   "source": [
    "import pandas as pd\n",
    "import numpy as np\n",
    "import matplotlib.pyplot as plt\n",
    "import nltk\n",
    "from nltk.corpus import stopwords\n",
    "from nltk.tokenize import word_tokenize\n",
    "from collections import Counter\n",
    "import string\n",
    "import html\n",
    "\n",
    "nltk.download('punkt')\n",
    "nltk.download('stopwords')\n",
    "\n",
    "pd.set_option('display.min_rows', 500)\n",
    "pd.set_option('display.max_rows', 500)\n",
    "pd.set_option('max_colwidth', 500)"
   ]
  },
  {
   "cell_type": "code",
   "execution_count": 2,
   "metadata": {},
   "outputs": [
    {
     "data": {
      "text/html": [
       "<div>\n",
       "<style scoped>\n",
       "    .dataframe tbody tr th:only-of-type {\n",
       "        vertical-align: middle;\n",
       "    }\n",
       "\n",
       "    .dataframe tbody tr th {\n",
       "        vertical-align: top;\n",
       "    }\n",
       "\n",
       "    .dataframe thead th {\n",
       "        text-align: right;\n",
       "    }\n",
       "</style>\n",
       "<table border=\"1\" class=\"dataframe\">\n",
       "  <thead>\n",
       "    <tr style=\"text-align: right;\">\n",
       "      <th></th>\n",
       "      <th>Date_time</th>\n",
       "      <th>date_documented</th>\n",
       "      <th>Year</th>\n",
       "      <th>Month</th>\n",
       "      <th>Hour</th>\n",
       "      <th>Season</th>\n",
       "      <th>Country_Code</th>\n",
       "      <th>Country</th>\n",
       "      <th>Region</th>\n",
       "      <th>Locale</th>\n",
       "      <th>latitude</th>\n",
       "      <th>longitude</th>\n",
       "      <th>UFO_shape</th>\n",
       "      <th>length_of_encounter_seconds</th>\n",
       "      <th>Encounter_Duration</th>\n",
       "      <th>Description</th>\n",
       "    </tr>\n",
       "  </thead>\n",
       "  <tbody>\n",
       "    <tr>\n",
       "      <th>0</th>\n",
       "      <td>1949-10-10 20:30:00</td>\n",
       "      <td>4/27/2004</td>\n",
       "      <td>1949</td>\n",
       "      <td>10</td>\n",
       "      <td>20</td>\n",
       "      <td>Autumn</td>\n",
       "      <td>USA</td>\n",
       "      <td>United States</td>\n",
       "      <td>Texas</td>\n",
       "      <td>San Marcos</td>\n",
       "      <td>29.883056</td>\n",
       "      <td>-97.941111</td>\n",
       "      <td>Cylinder</td>\n",
       "      <td>2700.0</td>\n",
       "      <td>45 minutes</td>\n",
       "      <td>This event took place in early fall around 1949-50. It occurred after a Boy Scout meeting in the Baptist Church. The Baptist Church sit</td>\n",
       "    </tr>\n",
       "    <tr>\n",
       "      <th>1</th>\n",
       "      <td>1949-10-10 21:00:00</td>\n",
       "      <td>12/16/2005</td>\n",
       "      <td>1949</td>\n",
       "      <td>10</td>\n",
       "      <td>21</td>\n",
       "      <td>Autumn</td>\n",
       "      <td>USA</td>\n",
       "      <td>United States</td>\n",
       "      <td>Texas</td>\n",
       "      <td>Bexar County</td>\n",
       "      <td>29.384210</td>\n",
       "      <td>-98.581082</td>\n",
       "      <td>Light</td>\n",
       "      <td>7200.0</td>\n",
       "      <td>1-2 hrs</td>\n",
       "      <td>1949 Lackland AFB&amp;#44 TX.  Lights racing across the sky &amp;amp; making 90 degree turns on a dime.</td>\n",
       "    </tr>\n",
       "    <tr>\n",
       "      <th>2</th>\n",
       "      <td>1955-10-10 17:00:00</td>\n",
       "      <td>1/21/2008</td>\n",
       "      <td>1955</td>\n",
       "      <td>10</td>\n",
       "      <td>17</td>\n",
       "      <td>Autumn</td>\n",
       "      <td>GBR</td>\n",
       "      <td>United Kingdom</td>\n",
       "      <td>England</td>\n",
       "      <td>Chester</td>\n",
       "      <td>53.200000</td>\n",
       "      <td>-2.916667</td>\n",
       "      <td>Circle</td>\n",
       "      <td>20.0</td>\n",
       "      <td>20 seconds</td>\n",
       "      <td>Green/Orange circular disc over Chester&amp;#44 England</td>\n",
       "    </tr>\n",
       "  </tbody>\n",
       "</table>\n",
       "</div>"
      ],
      "text/plain": [
       "             Date_time date_documented  Year  Month  Hour  Season  \\\n",
       "0  1949-10-10 20:30:00       4/27/2004  1949     10    20  Autumn   \n",
       "1  1949-10-10 21:00:00      12/16/2005  1949     10    21  Autumn   \n",
       "2  1955-10-10 17:00:00       1/21/2008  1955     10    17  Autumn   \n",
       "\n",
       "  Country_Code         Country   Region        Locale   latitude  longitude  \\\n",
       "0          USA   United States    Texas    San Marcos  29.883056 -97.941111   \n",
       "1          USA   United States    Texas  Bexar County  29.384210 -98.581082   \n",
       "2          GBR  United Kingdom  England       Chester  53.200000  -2.916667   \n",
       "\n",
       "  UFO_shape  length_of_encounter_seconds Encounter_Duration  \\\n",
       "0  Cylinder                       2700.0         45 minutes   \n",
       "1     Light                       7200.0            1-2 hrs   \n",
       "2    Circle                         20.0         20 seconds   \n",
       "\n",
       "                                                                                                                               Description  \n",
       "0  This event took place in early fall around 1949-50. It occurred after a Boy Scout meeting in the Baptist Church. The Baptist Church sit  \n",
       "1                                          1949 Lackland AFB&#44 TX.  Lights racing across the sky &amp; making 90 degree turns on a dime.  \n",
       "2                                                                                      Green/Orange circular disc over Chester&#44 England  "
      ]
     },
     "execution_count": 2,
     "metadata": {},
     "output_type": "execute_result"
    }
   ],
   "source": [
    "df = pd.read_csv('ufo-sightings.csv', index_col=[0])\n",
    "df.head(3)"
   ]
  },
  {
   "cell_type": "code",
   "execution_count": 3,
   "metadata": {},
   "outputs": [],
   "source": [
    "# Create separate column for sighting date\n",
    "df = df.rename(columns={\"Date_time\": \"Sightings_datetime\"}, errors=\"raise\")\n",
    "dates = pd.to_datetime(df['Sightings_datetime'])\n",
    "df['Sightings_date'] = dates.dt.date\n",
    "\n",
    "# Get the list of the columns from df.columns.tolist() and then rearrange\n",
    "cols = ['Sightings_datetime',\n",
    "'Sightings_date',\n",
    " 'date_documented',\n",
    " 'Year',\n",
    " 'Month',\n",
    " 'Hour',\n",
    " 'Season',\n",
    " 'Country_Code',\n",
    " 'Country',\n",
    " 'Region',\n",
    " 'Locale',\n",
    " 'latitude',\n",
    " 'longitude',\n",
    " 'UFO_shape',\n",
    " 'length_of_encounter_seconds',\n",
    " 'Encounter_Duration',\n",
    " 'Description']\n",
    "\n",
    "df = df[cols]"
   ]
  },
  {
   "cell_type": "code",
   "execution_count": 4,
   "metadata": {},
   "outputs": [
    {
     "data": {
      "text/plain": [
       "['Cylinder',\n",
       " 'Light',\n",
       " 'Circle',\n",
       " 'Sphere',\n",
       " 'Disk',\n",
       " 'Fireball',\n",
       " 'Unknown',\n",
       " 'Oval',\n",
       " 'Other',\n",
       " 'Cigar',\n",
       " 'Rectangle',\n",
       " 'Chevron',\n",
       " 'Triangle',\n",
       " 'Formation',\n",
       " nan,\n",
       " 'Delta',\n",
       " 'Changing',\n",
       " 'Egg',\n",
       " 'Diamond',\n",
       " 'Flash',\n",
       " 'Teardrop',\n",
       " 'Cone',\n",
       " 'Cross',\n",
       " 'Pyramid',\n",
       " 'Round',\n",
       " 'Crescent',\n",
       " 'Flare',\n",
       " 'Hexagon',\n",
       " 'Dome',\n",
       " 'Changed']"
      ]
     },
     "execution_count": 4,
     "metadata": {},
     "output_type": "execute_result"
    }
   ],
   "source": [
    "df['UFO_shape'].unique().tolist()"
   ]
  },
  {
   "cell_type": "markdown",
   "metadata": {},
   "source": [
    "### Clean up the craft descriptions"
   ]
  },
  {
   "cell_type": "code",
   "execution_count": 5,
   "metadata": {},
   "outputs": [],
   "source": [
    "# Combine the following:\n",
    "    # Changed -> Changing: Changing\n",
    "    # Chevron -> Cone -> Delta -> Diamond -> Pyramid -> Triangle: Triangular\n",
    "    # Cylinder -> Cigar: Cylindrical\n",
    "    # Dome -> Crescent: Dome\n",
    "    # Oval -> Egg: Oval\n",
    "    # Circle -> Round -> Sphere: Sphere\n",
    "    # Unknown -> NULL: Other\n",
    "\n",
    "df.fillna('Other', inplace=True)\n",
    "\n",
    "def replace_values(df, replacements):\n",
    "    for pattern, repl in replacements.items():\n",
    "        df['UFO_shape'] = df['UFO_shape'].replace({pattern: repl}, regex=True)\n",
    "\n",
    "replacements = {\n",
    "    'Changed': 'Changing',\n",
    "    'Chevron|Cone|Delta|Diamond|Pyramid|Triangle': 'Triangular',\n",
    "    'Cylinder|Cigar': 'Cylindrical',\n",
    "    'Crescent': 'Dome',\n",
    "    'Egg': 'Oval',\n",
    "    'Circle|Round': 'Sphere',\n",
    "    'Unknown': 'Other'\n",
    "}\n",
    "\n",
    "replace_values(df, replacements)"
   ]
  },
  {
   "cell_type": "code",
   "execution_count": 6,
   "metadata": {},
   "outputs": [
    {
     "data": {
      "text/plain": [
       "['Cylindrical',\n",
       " 'Light',\n",
       " 'Sphere',\n",
       " 'Disk',\n",
       " 'Fireball',\n",
       " 'Other',\n",
       " 'Oval',\n",
       " 'Rectangle',\n",
       " 'Triangular',\n",
       " 'Formation',\n",
       " 'Changing',\n",
       " 'Flash',\n",
       " 'Teardrop',\n",
       " 'Cross',\n",
       " 'Dome',\n",
       " 'Flare',\n",
       " 'Hexagon']"
      ]
     },
     "execution_count": 6,
     "metadata": {},
     "output_type": "execute_result"
    }
   ],
   "source": [
    "# Check that it worked\n",
    "df['UFO_shape'].unique().tolist()"
   ]
  },
  {
   "cell_type": "markdown",
   "metadata": {},
   "source": [
    "### Replace length of encounter outliers with the average of non-outliers"
   ]
  },
  {
   "cell_type": "code",
   "execution_count": 7,
   "metadata": {},
   "outputs": [],
   "source": [
    "# Convert seconds column to int\n",
    "df = df.astype({\"length_of_encounter_seconds\": int})\n",
    "\n",
    "# Replace anything with less than 1 second with 1\n",
    "df.loc[df['length_of_encounter_seconds'] < 1, 'length_of_encounter_seconds'] = 1\n",
    "\n",
    "# Calculate quartiles\n",
    "Q1 = df['length_of_encounter_seconds'].quantile(0.25)\n",
    "Q3 = df['length_of_encounter_seconds'].quantile(0.75)\n",
    "\n",
    "# Calculate IQR\n",
    "IQR = Q3 - Q1\n",
    "\n",
    "# Define upper and lower bounds for outliers\n",
    "lower_bound = Q1 - 1.5 * IQR\n",
    "upper_bound = Q3 + 1.5 * IQR\n",
    "\n",
    "# Replace outliers with the average of non-outliers\n",
    "mask_outliers = (df['length_of_encounter_seconds'] < lower_bound) | (df['length_of_encounter_seconds'] > upper_bound)\n",
    "avg_seconds = round(df[~mask_outliers]['length_of_encounter_seconds'].mean())\n",
    "\n",
    "# Replace outliers\n",
    "df.loc[mask_outliers, 'length_of_encounter_seconds'] = avg_seconds\n"
   ]
  },
  {
   "cell_type": "code",
   "execution_count": 8,
   "metadata": {},
   "outputs": [
    {
     "data": {
      "image/png": "[encoded data removed]",
      "text/plain": [
       "<Figure size 640x480 with 1 Axes>"
      ]
     },
     "metadata": {},
     "output_type": "display_data"
    }
   ],
   "source": [
    "# Plot histogram\n",
    "plt.hist(df['length_of_encounter_seconds'], bins=30, color='skyblue', edgecolor='black')\n",
    "\n",
    "plt.xlabel('Length of Encounter (Seconds)')\n",
    "plt.ylabel('Frequency')\n",
    "plt.title('Distribution of Encounter Length')\n",
    "\n",
    "# Show plot\n",
    "plt.show()\n"
   ]
  },
  {
   "cell_type": "markdown",
   "metadata": {},
   "source": [
    "### Clean and tokenize encounter description"
   ]
  },
  {
   "cell_type": "code",
   "execution_count": 9,
   "metadata": {},
   "outputs": [],
   "source": [
    "def preprocess_text(text):\n",
    "    if isinstance(text, str):  \n",
    "        text = html.unescape(text)  # Remove HTML entities\n",
    "        tokens = word_tokenize(text)  # Tokenize the text\n",
    "        return tokens\n",
    "    else:\n",
    "        return []  # Return an empty list for NaN values\n",
    "\n",
    "\n",
    "df['Description_Tokenized'] = df['Description'].copy()\n",
    "# Remove html symbols and tokenize\n",
    "df['Description_Tokenized'] = df['Description_Tokenized'].apply(preprocess_text)\n",
    "\n",
    "# Remove stopwords and punctuation\n",
    "stop_words = set(stopwords.words('english'))\n",
    "punctuation = set(string.punctuation)\n",
    "r = [\"...\",\"’\",\"''\",\"``\", \"50ꯠ\", \"..\", \"'s\", \"'S\"]\n",
    "punctuation.update(r)\n",
    "df['Description_Tokenized'] = df['Description_Tokenized'].apply(lambda x: [word for word in x if word.lower() not in stop_words and word.lower() not in punctuation])\n",
    "\n",
    "# Save clean file without text columns\n",
    "cleaneddf = df[df.columns[:-1]].copy()\n",
    "cleaneddf.to_csv('ufo-sightings-cleaned.csv')\n"
   ]
  },
  {
   "cell_type": "markdown",
   "metadata": {},
   "source": [
    "### Create a new file for a word cloud"
   ]
  },
  {
   "cell_type": "code",
   "execution_count": null,
   "metadata": {},
   "outputs": [],
   "source": [
    "# Get a list of every available year and month\n",
    "unique_year_month = df[['Year', 'Month']].drop_duplicates()\n",
    "array_data = unique_year_month.to_numpy()\n",
    "pairs_list = [list(pair) for pair in array_data]\n",
    "\n",
    "# Top n words most used\n",
    "N = 20\n",
    "\n",
    "# Create a blank table to concat the results\n",
    "blank_df = pd.DataFrame(columns=['Year', 'Month', 'Common_Words', 'Word_Count'])\n",
    "\n",
    "for i in pairs_list:\n",
    "    cloud_df = df[(df['Year'] == i[0]) & (df['Month'] == i[1])]\n",
    "    \n",
    "    cloud_df_all_words = [word for sublist in cloud_df['Description_Tokenized'] for word in sublist]\n",
    "    cloud_df_word_freq = Counter(cloud_df_all_words)\n",
    "    cloud_df_most_common_words = cloud_df_word_freq.most_common(N)\n",
    "\n",
    "    maxN = len(cloud_df_most_common_words)\n",
    "\n",
    "    # Apply logarithmic transformation to word counts. This step differentiates smaller changes in frequency more clearly\n",
    "    max_freq = max([count for _, count in cloud_df_most_common_words])\n",
    "    cloud_df_common_words_count = [1 + (10 * count / max_freq) for _, count in cloud_df_most_common_words]\n",
    "\n",
    "    cloud_df_common_words = [word for word, _ in cloud_df_most_common_words]\n",
    "    data = {'Year': [i[0]] * min(N, maxN), 'Month': [i[1]] * min(N, maxN), 'Common_Words': cloud_df_common_words, 'Word_Count': cloud_df_common_words_count}\n",
    "    result = pd.DataFrame(data)\n",
    "\n",
    "    blank_df = pd.concat([blank_df, result], ignore_index=True)\n",
    "\n",
    "blank_df.to_csv('ufo-sightings-wordcloud.csv')"
   ]
  },
  {
   "cell_type": "markdown",
   "metadata": {},
   "source": [
    "### Final dashboard result:\n",
    "https://public.tableau.com/app/profile/igor.rodrigues/viz/UFOSightings-CraftTypeandDescriptions/CraftTypes"
   ]
  }
 ],
 "metadata": {
  "kernelspec": {
   "display_name": "Python 3",
   "language": "python",
   "name": "python3"
  },
  "language_info": {
   "codemirror_mode": {
    "name": "ipython",
    "version": 3
   },
   "file_extension": ".py",
   "mimetype": "text/x-python",
   "name": "python",
   "nbconvert_exporter": "python",
   "pygments_lexer": "ipython3",
   "version": "3.11.2"
  }
 },
 "nbformat": 4,
 "nbformat_minor": 2
}
